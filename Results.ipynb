{
 "cells": [
  {
   "cell_type": "code",
   "execution_count": 22,
   "metadata": {
    "collapsed": true
   },
   "outputs": [],
   "source": [
    "import pandas as pd"
   ]
  },
  {
   "cell_type": "code",
   "execution_count": 31,
   "metadata": {
    "collapsed": false
   },
   "outputs": [],
   "source": [
    "results = pd.DataFrame({\"Date\": \"1/16\", \"Submission\": \"First XGBoost (RMSE)\",\n",
    "                      \"Local_Score\": \"N/A\", \"Kaggle_Score\": 0.565, \"Position\": 1510}, index=[1])"
   ]
  },
  {
   "cell_type": "code",
   "execution_count": 32,
   "metadata": {
    "collapsed": false
   },
   "outputs": [],
   "source": [
    "results = results.append({\"Date\": \"1/21\", \"Submission\": \"First Linear Regression (RMSE)\",\n",
    "                      \"Local_Score\": 1.88, \"Kaggle_Score\": 0.587, \"Position\": 1393}, ignore_index=True)"
   ]
  },
  {
   "cell_type": "code",
   "execution_count": 33,
   "metadata": {
    "collapsed": false
   },
   "outputs": [],
   "source": [
    "results = results.append({\"Date\": \"1/21\", \"Submission\": \"LR, Max_depth=3\",\n",
    "                      \"Local_Score\": 1.867, \"Kaggle_Score\": 0.589, \"Position\": 1383}, ignore_index=True)"
   ]
  },
  {
   "cell_type": "code",
   "execution_count": 34,
   "metadata": {
    "collapsed": false
   },
   "outputs": [
    {
     "data": {
      "text/html": [
       "<div>\n",
       "<table border=\"1\" class=\"dataframe\">\n",
       "  <thead>\n",
       "    <tr style=\"text-align: right;\">\n",
       "      <th></th>\n",
       "      <th>Date</th>\n",
       "      <th>Kaggle_Score</th>\n",
       "      <th>Local_Score</th>\n",
       "      <th>Position</th>\n",
       "      <th>Submission</th>\n",
       "    </tr>\n",
       "  </thead>\n",
       "  <tbody>\n",
       "    <tr>\n",
       "      <th>0</th>\n",
       "      <td>1/16</td>\n",
       "      <td>0.565</td>\n",
       "      <td>N/A</td>\n",
       "      <td>1510</td>\n",
       "      <td>First XGBoost (RMSE)</td>\n",
       "    </tr>\n",
       "    <tr>\n",
       "      <th>1</th>\n",
       "      <td>1/21</td>\n",
       "      <td>0.587</td>\n",
       "      <td>1.88</td>\n",
       "      <td>1393</td>\n",
       "      <td>First Linear Regression (RMSE)</td>\n",
       "    </tr>\n",
       "    <tr>\n",
       "      <th>2</th>\n",
       "      <td>1/21</td>\n",
       "      <td>0.589</td>\n",
       "      <td>1.867</td>\n",
       "      <td>1383</td>\n",
       "      <td>LR, Max_depth=3</td>\n",
       "    </tr>\n",
       "  </tbody>\n",
       "</table>\n",
       "</div>"
      ],
      "text/plain": [
       "   Date  Kaggle_Score Local_Score  Position                      Submission\n",
       "0  1/16         0.565         N/A      1510            First XGBoost (RMSE)\n",
       "1  1/21         0.587        1.88      1393  First Linear Regression (RMSE)\n",
       "2  1/21         0.589       1.867      1383                 LR, Max_depth=3"
      ]
     },
     "execution_count": 34,
     "metadata": {},
     "output_type": "execute_result"
    }
   ],
   "source": [
    "results"
   ]
  },
  {
   "cell_type": "code",
   "execution_count": null,
   "metadata": {
    "collapsed": true
   },
   "outputs": [],
   "source": []
  }
 ],
 "metadata": {
  "kernelspec": {
   "display_name": "Python 3",
   "language": "python",
   "name": "python3"
  },
  "language_info": {
   "codemirror_mode": {
    "name": "ipython",
    "version": 3
   },
   "file_extension": ".py",
   "mimetype": "text/x-python",
   "name": "python",
   "nbconvert_exporter": "python",
   "pygments_lexer": "ipython3",
   "version": "3.5.0"
  }
 },
 "nbformat": 4,
 "nbformat_minor": 0
}
