{
 "cells": [
  {
   "cell_type": "code",
   "execution_count": 6,
   "metadata": {
    "collapsed": true
   },
   "outputs": [],
   "source": [
    "import pandas\n",
    "import pandas as pd\n",
    "import numpy as np\n",
    "import re \n",
    "import matplotlib.pyplot as plt\n",
    "import seaborn\n",
    "%matplotlib inline"
   ]
  },
  {
   "cell_type": "code",
   "execution_count": 7,
   "metadata": {
    "collapsed": false
   },
   "outputs": [],
   "source": [
    "import xgboost as xgb\n",
    "from sklearn.cross_validation import train_test_split\n",
    "from sklearn.metrics import log_loss"
   ]
  },
  {
   "cell_type": "code",
   "execution_count": 58,
   "metadata": {
    "collapsed": true
   },
   "outputs": [],
   "source": [
    "train = pd.read_csv(\"train.csv\")"
   ]
  },
  {
   "cell_type": "code",
   "execution_count": 8,
   "metadata": {
    "collapsed": true
   },
   "outputs": [],
   "source": [
    "#sample_submission = pd.read_csv(\"sample_submission.csv\")"
   ]
  },
  {
   "cell_type": "code",
   "execution_count": 77,
   "metadata": {
    "collapsed": false
   },
   "outputs": [],
   "source": [
    "def initial_cleaning_data_process():\n",
    "    train = pd.read_csv(\"train.csv\")\n",
    "    test = pd.read_csv(\"test.csv\")\n",
    "    train['Product_Info_2'] = pd.factorize(train['Product_Info_2'])[0]\n",
    "    test['Product_Info_2'] = pd.factorize(test['Product_Info_2'])[0]\n",
    "    train['Response'] = train['Response'].astype(int)\n",
    "\n",
    "    #train.Product_Info_2 = train.Product_Info_2.map({'A1': 1,'A2': 2,'A3':3,'A4':4,'A5':5,\n",
    "               #'A6': 6,'A7': 7, 'A8':8, 'B1': 9,\n",
    "               #'B2': 10, 'C1': 11, 'C2':12, 'C3':13,\n",
    "               #'C4':14, 'D1': 15, 'D2': 16,'D3': 17, 'D4':18,'E1':19})\n",
    "    #test.Product_Info_2 = test.Product_Info_2.map({'A1': 1,'A2': 2,'A3':3,'A4':4,'A5':5,\n",
    "               #'A6': 6,'A7': 7, 'A8':8, 'B1': 9,\n",
    "               #'B2': 10, 'C1': 11, 'C2':12, 'C3':13,\n",
    "               #'C4':14, 'D1': 15, 'D2': 16,'D3': 17, 'D4':18,'E1':19})\n",
    "    train = train.fillna(-999.0)\n",
    "    test = test.fillna(-999.0)\n",
    "    mytrain, mytest = train_test_split(train, test_size = .4)\n",
    "    return mytrain, mytest, test"
   ]
  },
  {
   "cell_type": "code",
   "execution_count": 78,
   "metadata": {
    "collapsed": false
   },
   "outputs": [],
   "source": [
    "mytrain, mytest, test = initial_cleaning_data_process()"
   ]
  },
  {
   "cell_type": "code",
   "execution_count": 79,
   "metadata": {
    "collapsed": false
   },
   "outputs": [],
   "source": [
    "dtrain = xgb.DMatrix(np.asarray(mytrain.iloc[:,1:127]), \n",
    "                     label = np.asarray(mytrain.Response), missing = -999)\n",
    "dtest = xgb.DMatrix(np.asarray(mytest.iloc[:,1:127]), \n",
    "                    label = np.asarray(mytest.Response), missing = -999)"
   ]
  },
  {
   "cell_type": "code",
   "execution_count": 74,
   "metadata": {
    "collapsed": false
   },
   "outputs": [
    {
     "data": {
      "text/plain": [
       "8    11664\n",
       "6     6753\n",
       "7     4837\n",
       "2     3871\n",
       "1     3697\n",
       "5     3348\n",
       "4      846\n",
       "3      612\n",
       "Name: Response, dtype: int64"
      ]
     },
     "execution_count": 74,
     "metadata": {},
     "output_type": "execute_result"
    }
   ],
   "source": [
    "mytrain.Response.value_counts()"
   ]
  },
  {
   "cell_type": "code",
   "execution_count": 75,
   "metadata": {
    "collapsed": false
   },
   "outputs": [
    {
     "name": "stderr",
     "output_type": "stream",
     "text": [
      "Will train until eval error hasn't decreased in 5 rounds.\n",
      "[0]\ttrain-rmse:5.451413\teval-rmse:5.445240\n",
      "[1]\ttrain-rmse:5.216463\teval-rmse:5.211309\n",
      "[2]\ttrain-rmse:4.994241\teval-rmse:4.989998\n",
      "[3]\ttrain-rmse:4.784658\teval-rmse:4.781496\n",
      "[4]\ttrain-rmse:4.589509\teval-rmse:4.587770\n",
      "[5]\ttrain-rmse:4.403473\teval-rmse:4.402776\n",
      "[6]\ttrain-rmse:4.232525\teval-rmse:4.233318\n",
      "[7]\ttrain-rmse:4.068556\teval-rmse:4.070889\n",
      "[8]\ttrain-rmse:3.913136\teval-rmse:3.916756\n",
      "[9]\ttrain-rmse:3.767966\teval-rmse:3.772775\n",
      "[10]\ttrain-rmse:3.632101\teval-rmse:3.638733\n",
      "[11]\ttrain-rmse:3.504174\teval-rmse:3.512138\n",
      "[12]\ttrain-rmse:3.383663\teval-rmse:3.393254\n",
      "[13]\ttrain-rmse:3.271287\teval-rmse:3.282700\n",
      "[14]\ttrain-rmse:3.166025\teval-rmse:3.179265\n",
      "[15]\ttrain-rmse:3.069155\teval-rmse:3.084450\n",
      "[16]\ttrain-rmse:2.979457\teval-rmse:2.996798\n",
      "[17]\ttrain-rmse:2.894163\teval-rmse:2.913332\n",
      "[18]\ttrain-rmse:2.813762\teval-rmse:2.834712\n",
      "[19]\ttrain-rmse:2.739516\teval-rmse:2.762375\n",
      "[20]\ttrain-rmse:2.670080\teval-rmse:2.694975\n",
      "[21]\ttrain-rmse:2.605991\teval-rmse:2.632784\n",
      "[22]\ttrain-rmse:2.546059\teval-rmse:2.574876\n",
      "[23]\ttrain-rmse:2.490446\teval-rmse:2.521407\n",
      "[24]\ttrain-rmse:2.439079\teval-rmse:2.472444\n",
      "[25]\ttrain-rmse:2.391448\teval-rmse:2.426444\n",
      "[26]\ttrain-rmse:2.347178\teval-rmse:2.384020\n",
      "[27]\ttrain-rmse:2.306170\teval-rmse:2.345339\n",
      "[28]\ttrain-rmse:2.268522\teval-rmse:2.309315\n",
      "[29]\ttrain-rmse:2.233433\teval-rmse:2.276010\n",
      "[30]\ttrain-rmse:2.201538\teval-rmse:2.245595\n",
      "[31]\ttrain-rmse:2.172153\teval-rmse:2.218160\n",
      "[32]\ttrain-rmse:2.144465\teval-rmse:2.192420\n",
      "[33]\ttrain-rmse:2.118825\teval-rmse:2.168687\n",
      "[34]\ttrain-rmse:2.095233\teval-rmse:2.147181\n",
      "[35]\ttrain-rmse:2.073359\teval-rmse:2.127356\n",
      "[36]\ttrain-rmse:2.053482\teval-rmse:2.109052\n",
      "[37]\ttrain-rmse:2.034901\teval-rmse:2.092017\n",
      "[38]\ttrain-rmse:2.017620\teval-rmse:2.076936\n",
      "[39]\ttrain-rmse:2.001947\teval-rmse:2.063058\n",
      "[40]\ttrain-rmse:1.987912\teval-rmse:2.050462\n",
      "[41]\ttrain-rmse:1.974518\teval-rmse:2.038449\n",
      "[42]\ttrain-rmse:1.961849\teval-rmse:2.027526\n",
      "[43]\ttrain-rmse:1.950185\teval-rmse:2.017418\n",
      "[44]\ttrain-rmse:1.939007\teval-rmse:2.008058\n",
      "[45]\ttrain-rmse:1.929207\teval-rmse:1.999937\n",
      "[46]\ttrain-rmse:1.919757\teval-rmse:1.992427\n",
      "[47]\ttrain-rmse:1.911211\teval-rmse:1.985422\n",
      "[48]\ttrain-rmse:1.902929\teval-rmse:1.978631\n",
      "[49]\ttrain-rmse:1.895219\teval-rmse:1.972321\n",
      "[50]\ttrain-rmse:1.888006\teval-rmse:1.966549\n",
      "[51]\ttrain-rmse:1.880929\teval-rmse:1.960837\n",
      "[52]\ttrain-rmse:1.874622\teval-rmse:1.956096\n",
      "[53]\ttrain-rmse:1.868984\teval-rmse:1.951689\n",
      "[54]\ttrain-rmse:1.863083\teval-rmse:1.947273\n",
      "[55]\ttrain-rmse:1.858268\teval-rmse:1.943725\n",
      "[56]\ttrain-rmse:1.853681\teval-rmse:1.940406\n",
      "[57]\ttrain-rmse:1.848907\teval-rmse:1.936894\n",
      "[58]\ttrain-rmse:1.844497\teval-rmse:1.934173\n",
      "[59]\ttrain-rmse:1.839950\teval-rmse:1.931147\n",
      "[60]\ttrain-rmse:1.836027\teval-rmse:1.928578\n",
      "[61]\ttrain-rmse:1.832571\teval-rmse:1.926104\n",
      "[62]\ttrain-rmse:1.829455\teval-rmse:1.923958\n",
      "[63]\ttrain-rmse:1.826086\teval-rmse:1.921890\n",
      "[64]\ttrain-rmse:1.823240\teval-rmse:1.919956\n",
      "[65]\ttrain-rmse:1.820640\teval-rmse:1.918305\n",
      "[66]\ttrain-rmse:1.817394\teval-rmse:1.916644\n",
      "[67]\ttrain-rmse:1.814339\teval-rmse:1.914655\n",
      "[68]\ttrain-rmse:1.811772\teval-rmse:1.913305\n",
      "[69]\ttrain-rmse:1.808827\teval-rmse:1.911629\n",
      "[70]\ttrain-rmse:1.806386\teval-rmse:1.910028\n",
      "[71]\ttrain-rmse:1.804325\teval-rmse:1.908695\n",
      "[72]\ttrain-rmse:1.802151\teval-rmse:1.907665\n",
      "[73]\ttrain-rmse:1.799292\teval-rmse:1.906159\n",
      "[74]\ttrain-rmse:1.797210\teval-rmse:1.905139\n",
      "[75]\ttrain-rmse:1.795040\teval-rmse:1.903911\n",
      "[76]\ttrain-rmse:1.793389\teval-rmse:1.902832\n",
      "[77]\ttrain-rmse:1.791541\teval-rmse:1.901879\n",
      "[78]\ttrain-rmse:1.789701\teval-rmse:1.901021\n",
      "[79]\ttrain-rmse:1.787697\teval-rmse:1.900241\n",
      "[80]\ttrain-rmse:1.785490\teval-rmse:1.899162\n",
      "[81]\ttrain-rmse:1.783507\teval-rmse:1.898356\n",
      "[82]\ttrain-rmse:1.781275\teval-rmse:1.897563\n",
      "[83]\ttrain-rmse:1.779848\teval-rmse:1.896819\n",
      "[84]\ttrain-rmse:1.777951\teval-rmse:1.895903\n",
      "[85]\ttrain-rmse:1.776793\teval-rmse:1.895383\n",
      "[86]\ttrain-rmse:1.775550\teval-rmse:1.894730\n",
      "[87]\ttrain-rmse:1.773812\teval-rmse:1.893947\n",
      "[88]\ttrain-rmse:1.771919\teval-rmse:1.893020\n",
      "[89]\ttrain-rmse:1.770779\teval-rmse:1.892346\n",
      "[90]\ttrain-rmse:1.769608\teval-rmse:1.891853\n",
      "[91]\ttrain-rmse:1.767982\teval-rmse:1.891049\n",
      "[92]\ttrain-rmse:1.766474\teval-rmse:1.890493\n",
      "[93]\ttrain-rmse:1.765041\teval-rmse:1.889946\n",
      "[94]\ttrain-rmse:1.763610\teval-rmse:1.889376\n",
      "[95]\ttrain-rmse:1.762339\teval-rmse:1.888858\n",
      "[96]\ttrain-rmse:1.760701\teval-rmse:1.888145\n",
      "[97]\ttrain-rmse:1.759687\teval-rmse:1.887621\n",
      "[98]\ttrain-rmse:1.758676\teval-rmse:1.887141\n",
      "[99]\ttrain-rmse:1.757718\teval-rmse:1.886902\n",
      "[100]\ttrain-rmse:1.755951\teval-rmse:1.885966\n",
      "[101]\ttrain-rmse:1.754459\teval-rmse:1.885330\n",
      "[102]\ttrain-rmse:1.753017\teval-rmse:1.884853\n",
      "[103]\ttrain-rmse:1.752076\teval-rmse:1.884239\n",
      "[104]\ttrain-rmse:1.750984\teval-rmse:1.883820\n",
      "[105]\ttrain-rmse:1.749936\teval-rmse:1.883664\n",
      "[106]\ttrain-rmse:1.748568\teval-rmse:1.883167\n",
      "[107]\ttrain-rmse:1.747857\teval-rmse:1.882871\n",
      "[108]\ttrain-rmse:1.746331\teval-rmse:1.882394\n",
      "[109]\ttrain-rmse:1.745484\teval-rmse:1.882045\n",
      "[110]\ttrain-rmse:1.744572\teval-rmse:1.881639\n",
      "[111]\ttrain-rmse:1.743252\teval-rmse:1.881102\n",
      "[112]\ttrain-rmse:1.742066\teval-rmse:1.880612\n",
      "[113]\ttrain-rmse:1.740766\teval-rmse:1.880414\n",
      "[114]\ttrain-rmse:1.739519\teval-rmse:1.880150\n",
      "[115]\ttrain-rmse:1.738594\teval-rmse:1.879510\n",
      "[116]\ttrain-rmse:1.737420\teval-rmse:1.879090\n",
      "[117]\ttrain-rmse:1.736440\teval-rmse:1.878825\n",
      "[118]\ttrain-rmse:1.735049\teval-rmse:1.878465\n",
      "[119]\ttrain-rmse:1.733864\teval-rmse:1.878134\n",
      "[120]\ttrain-rmse:1.732805\teval-rmse:1.877614\n",
      "[121]\ttrain-rmse:1.731710\teval-rmse:1.877274\n",
      "[122]\ttrain-rmse:1.730497\teval-rmse:1.876919\n",
      "[123]\ttrain-rmse:1.729723\teval-rmse:1.876656\n",
      "[124]\ttrain-rmse:1.728599\teval-rmse:1.876452\n",
      "[125]\ttrain-rmse:1.727820\teval-rmse:1.876279\n",
      "[126]\ttrain-rmse:1.726652\teval-rmse:1.876135\n",
      "[127]\ttrain-rmse:1.725484\teval-rmse:1.875842\n",
      "[128]\ttrain-rmse:1.724839\teval-rmse:1.875645\n",
      "[129]\ttrain-rmse:1.723984\teval-rmse:1.875524\n",
      "[130]\ttrain-rmse:1.722734\teval-rmse:1.875098\n",
      "[131]\ttrain-rmse:1.721962\teval-rmse:1.874815\n",
      "[132]\ttrain-rmse:1.721097\teval-rmse:1.874729\n",
      "[133]\ttrain-rmse:1.720359\teval-rmse:1.874471\n",
      "[134]\ttrain-rmse:1.719424\teval-rmse:1.874106\n",
      "[135]\ttrain-rmse:1.718876\teval-rmse:1.873775\n",
      "[136]\ttrain-rmse:1.718325\teval-rmse:1.873503\n",
      "[137]\ttrain-rmse:1.717297\teval-rmse:1.873348\n",
      "[138]\ttrain-rmse:1.716017\teval-rmse:1.872909\n",
      "[139]\ttrain-rmse:1.715014\teval-rmse:1.872614\n",
      "[140]\ttrain-rmse:1.714117\teval-rmse:1.872524\n",
      "[141]\ttrain-rmse:1.712992\teval-rmse:1.872382\n",
      "[142]\ttrain-rmse:1.712556\teval-rmse:1.872237\n",
      "[143]\ttrain-rmse:1.711812\teval-rmse:1.872077\n",
      "[144]\ttrain-rmse:1.710944\teval-rmse:1.871902\n",
      "[145]\ttrain-rmse:1.709934\teval-rmse:1.871669\n",
      "[146]\ttrain-rmse:1.708971\teval-rmse:1.871401\n",
      "[147]\ttrain-rmse:1.708072\teval-rmse:1.871216\n",
      "[148]\ttrain-rmse:1.707143\teval-rmse:1.871037\n",
      "[149]\ttrain-rmse:1.706016\teval-rmse:1.870802\n",
      "[150]\ttrain-rmse:1.705188\teval-rmse:1.870616\n",
      "[151]\ttrain-rmse:1.703891\teval-rmse:1.870387\n",
      "[152]\ttrain-rmse:1.703103\teval-rmse:1.870229\n",
      "[153]\ttrain-rmse:1.702300\teval-rmse:1.869995\n",
      "[154]\ttrain-rmse:1.701602\teval-rmse:1.869847\n",
      "[155]\ttrain-rmse:1.700401\teval-rmse:1.869490\n",
      "[156]\ttrain-rmse:1.699782\teval-rmse:1.869306\n",
      "[157]\ttrain-rmse:1.699116\teval-rmse:1.869166\n",
      "[158]\ttrain-rmse:1.698648\teval-rmse:1.869016\n",
      "[159]\ttrain-rmse:1.697954\teval-rmse:1.868755\n",
      "[160]\ttrain-rmse:1.697003\teval-rmse:1.868607\n",
      "[161]\ttrain-rmse:1.695880\teval-rmse:1.868256\n",
      "[162]\ttrain-rmse:1.694736\teval-rmse:1.868244\n",
      "[163]\ttrain-rmse:1.693958\teval-rmse:1.868110\n",
      "[164]\ttrain-rmse:1.693277\teval-rmse:1.868027\n",
      "[165]\ttrain-rmse:1.692652\teval-rmse:1.867864\n",
      "[166]\ttrain-rmse:1.691623\teval-rmse:1.867609\n",
      "[167]\ttrain-rmse:1.690880\teval-rmse:1.867360\n",
      "[168]\ttrain-rmse:1.690156\teval-rmse:1.867229\n",
      "[169]\ttrain-rmse:1.689486\teval-rmse:1.867004\n",
      "[170]\ttrain-rmse:1.688390\teval-rmse:1.866793\n",
      "[171]\ttrain-rmse:1.687307\teval-rmse:1.866603\n",
      "[172]\ttrain-rmse:1.686735\teval-rmse:1.866477\n",
      "[173]\ttrain-rmse:1.686262\teval-rmse:1.866244\n",
      "[174]\ttrain-rmse:1.685448\teval-rmse:1.866217\n",
      "[175]\ttrain-rmse:1.684835\teval-rmse:1.866042\n",
      "[176]\ttrain-rmse:1.683897\teval-rmse:1.865920\n",
      "[177]\ttrain-rmse:1.682880\teval-rmse:1.865803\n",
      "[178]\ttrain-rmse:1.681929\teval-rmse:1.865713\n",
      "[179]\ttrain-rmse:1.680854\teval-rmse:1.865537\n",
      "[180]\ttrain-rmse:1.680436\teval-rmse:1.865406\n",
      "[181]\ttrain-rmse:1.679817\teval-rmse:1.865322\n",
      "[182]\ttrain-rmse:1.678903\teval-rmse:1.865192\n",
      "[183]\ttrain-rmse:1.678125\teval-rmse:1.865136\n",
      "[184]\ttrain-rmse:1.677441\teval-rmse:1.865003\n",
      "[185]\ttrain-rmse:1.676423\teval-rmse:1.864816\n",
      "[186]\ttrain-rmse:1.675564\teval-rmse:1.864620\n",
      "[187]\ttrain-rmse:1.675089\teval-rmse:1.864533\n",
      "[188]\ttrain-rmse:1.674347\teval-rmse:1.864412\n",
      "[189]\ttrain-rmse:1.673265\teval-rmse:1.864176\n",
      "[190]\ttrain-rmse:1.672632\teval-rmse:1.864035\n",
      "[191]\ttrain-rmse:1.672063\teval-rmse:1.864048\n",
      "[192]\ttrain-rmse:1.671445\teval-rmse:1.864000\n",
      "[193]\ttrain-rmse:1.671056\teval-rmse:1.863992\n",
      "[194]\ttrain-rmse:1.670389\teval-rmse:1.863933\n",
      "[195]\ttrain-rmse:1.669479\teval-rmse:1.863887\n",
      "[196]\ttrain-rmse:1.668936\teval-rmse:1.863809\n",
      "[197]\ttrain-rmse:1.668609\teval-rmse:1.863702\n",
      "[198]\ttrain-rmse:1.668003\teval-rmse:1.863735\n",
      "[199]\ttrain-rmse:1.667157\teval-rmse:1.863532\n",
      "[200]\ttrain-rmse:1.666270\teval-rmse:1.863370\n",
      "[201]\ttrain-rmse:1.665552\teval-rmse:1.863203\n",
      "[202]\ttrain-rmse:1.664592\teval-rmse:1.863142\n",
      "[203]\ttrain-rmse:1.664027\teval-rmse:1.863021\n",
      "[204]\ttrain-rmse:1.663531\teval-rmse:1.862831\n",
      "[205]\ttrain-rmse:1.662804\teval-rmse:1.862822\n",
      "[206]\ttrain-rmse:1.661843\teval-rmse:1.862679\n",
      "[207]\ttrain-rmse:1.661363\teval-rmse:1.862668\n",
      "[208]\ttrain-rmse:1.660879\teval-rmse:1.862620\n",
      "[209]\ttrain-rmse:1.660520\teval-rmse:1.862586\n",
      "[210]\ttrain-rmse:1.659455\teval-rmse:1.862377\n",
      "[211]\ttrain-rmse:1.658707\teval-rmse:1.862341\n",
      "[212]\ttrain-rmse:1.657558\teval-rmse:1.862190\n",
      "[213]\ttrain-rmse:1.656646\teval-rmse:1.862167\n",
      "[214]\ttrain-rmse:1.656231\teval-rmse:1.862049\n",
      "[215]\ttrain-rmse:1.655298\teval-rmse:1.862060\n",
      "[216]\ttrain-rmse:1.654486\teval-rmse:1.862072\n",
      "[217]\ttrain-rmse:1.653805\teval-rmse:1.862044\n",
      "[218]\ttrain-rmse:1.653432\teval-rmse:1.861938\n",
      "[219]\ttrain-rmse:1.652996\teval-rmse:1.861860\n",
      "[220]\ttrain-rmse:1.652561\teval-rmse:1.861840\n",
      "[221]\ttrain-rmse:1.651914\teval-rmse:1.861788\n",
      "[222]\ttrain-rmse:1.651527\teval-rmse:1.861797\n",
      "[223]\ttrain-rmse:1.650999\teval-rmse:1.861746\n",
      "[224]\ttrain-rmse:1.650472\teval-rmse:1.861820\n",
      "[225]\ttrain-rmse:1.650188\teval-rmse:1.861788\n",
      "[226]\ttrain-rmse:1.649795\teval-rmse:1.861797\n",
      "[227]\ttrain-rmse:1.649140\teval-rmse:1.861638\n",
      "[228]\ttrain-rmse:1.648350\teval-rmse:1.861624\n",
      "[229]\ttrain-rmse:1.648048\teval-rmse:1.861651\n",
      "[230]\ttrain-rmse:1.647010\teval-rmse:1.861518\n",
      "[231]\ttrain-rmse:1.646752\teval-rmse:1.861392\n",
      "[232]\ttrain-rmse:1.646528\teval-rmse:1.861371\n",
      "[233]\ttrain-rmse:1.645927\teval-rmse:1.861304\n",
      "[234]\ttrain-rmse:1.645409\teval-rmse:1.861256\n",
      "[235]\ttrain-rmse:1.645186\teval-rmse:1.861206\n",
      "[236]\ttrain-rmse:1.644804\teval-rmse:1.861121\n",
      "[237]\ttrain-rmse:1.643996\teval-rmse:1.860964\n",
      "[238]\ttrain-rmse:1.643349\teval-rmse:1.860848\n",
      "[239]\ttrain-rmse:1.642522\teval-rmse:1.860839\n",
      "[240]\ttrain-rmse:1.641931\teval-rmse:1.860851\n",
      "[241]\ttrain-rmse:1.641095\teval-rmse:1.860658\n",
      "[242]\ttrain-rmse:1.640816\teval-rmse:1.860638\n",
      "[243]\ttrain-rmse:1.640234\teval-rmse:1.860622\n",
      "[244]\ttrain-rmse:1.639678\teval-rmse:1.860514\n",
      "[245]\ttrain-rmse:1.639232\teval-rmse:1.860472\n",
      "[246]\ttrain-rmse:1.638550\teval-rmse:1.860460\n",
      "[247]\ttrain-rmse:1.638126\teval-rmse:1.860363\n",
      "[248]\ttrain-rmse:1.637791\teval-rmse:1.860298\n",
      "[249]\ttrain-rmse:1.637387\teval-rmse:1.860274\n",
      "[250]\ttrain-rmse:1.636952\teval-rmse:1.860229\n",
      "[251]\ttrain-rmse:1.636473\teval-rmse:1.860165\n",
      "[252]\ttrain-rmse:1.636018\teval-rmse:1.860181\n",
      "[253]\ttrain-rmse:1.635687\teval-rmse:1.860225\n",
      "[254]\ttrain-rmse:1.635430\teval-rmse:1.860205\n",
      "[255]\ttrain-rmse:1.634713\teval-rmse:1.860216\n",
      "[256]\ttrain-rmse:1.634284\teval-rmse:1.860206\n",
      "Stopping. Best iteration:\n",
      "[251]\ttrain-rmse:1.636473\teval-rmse:1.860165\n",
      "\n"
     ]
    }
   ],
   "source": [
    "1.832153\n",
    "num_round = 500\n",
    "param1 = {'objective': \"reg:linear\", #\"min_child_weight\" : 240,\n",
    "         \"subsample\" : 1, \"colsample_bytree\" : 0.67, \"eta\" : 0.05}\n",
    "watchlist1 = [(dtrain,'train'), (dtest, 'eval')]\n",
    "\n",
    "bst = xgb.train(param1, dtrain, num_round, watchlist1, early_stopping_rounds=5)"
   ]
  },
  {
   "cell_type": "code",
   "execution_count": 80,
   "metadata": {
    "collapsed": false
   },
   "outputs": [],
   "source": [
    "predictions = bst.predict(xgb.DMatrix(np.asarray(test.iloc[:,1:])))"
   ]
  },
  {
   "cell_type": "code",
   "execution_count": null,
   "metadata": {
    "collapsed": true
   },
   "outputs": [],
   "source": [
    "#format_predictions.to_csv(\"submissions/linear_regression_optimized.csv\", index=False)"
   ]
  },
  {
   "cell_type": "code",
   "execution_count": 81,
   "metadata": {
    "collapsed": true
   },
   "outputs": [],
   "source": [
    "train_predictions = bst.predict(xgb.DMatrix(np.asarray(mytest.iloc[:,1:127])))"
   ]
  },
  {
   "cell_type": "code",
   "execution_count": 87,
   "metadata": {
    "collapsed": true
   },
   "outputs": [],
   "source": [
    "train_predictions = np.clip(train_predictions, -0.99, 8.99)\n",
    "predictions = np.clip(predictions, -0.99, 8.99)"
   ]
  },
  {
   "cell_type": "code",
   "execution_count": 93,
   "metadata": {
    "collapsed": false
   },
   "outputs": [
    {
     "data": {
      "text/plain": [
       "array([ 1.86227942,  1.75827909,  1.43387127, ...,  1.3452903 ,\n",
       "        1.19408846,  1.85760891], dtype=float32)"
      ]
     },
     "execution_count": 93,
     "metadata": {},
     "output_type": "execute_result"
    }
   ],
   "source": [
    "train_predictions[train_predictions <= 2]"
   ]
  },
  {
   "cell_type": "code",
   "execution_count": 94,
   "metadata": {
    "collapsed": false
   },
   "outputs": [
    {
     "data": {
      "text/plain": [
       "array([ 2.61067724,  2.69169521,  2.64968491, ...,  2.60672188,\n",
       "        2.43414211,  2.940521  ], dtype=float32)"
      ]
     },
     "execution_count": 94,
     "metadata": {},
     "output_type": "execute_result"
    }
   ],
   "source": [
    "train_predictions[(train_predictions > 2) & (train_predictions < 3)]"
   ]
  },
  {
   "cell_type": "code",
   "execution_count": 86,
   "metadata": {
    "collapsed": false
   },
   "outputs": [
    {
     "data": {
      "text/html": [
       "<div>\n",
       "<table border=\"1\" class=\"dataframe\">\n",
       "  <thead>\n",
       "    <tr style=\"text-align: right;\">\n",
       "      <th></th>\n",
       "      <th>0</th>\n",
       "    </tr>\n",
       "  </thead>\n",
       "  <tbody>\n",
       "    <tr>\n",
       "      <th>196</th>\n",
       "      <td>7.009859</td>\n",
       "    </tr>\n",
       "    <tr>\n",
       "      <th>763</th>\n",
       "      <td>7.213717</td>\n",
       "    </tr>\n",
       "    <tr>\n",
       "      <th>1108</th>\n",
       "      <td>7.104385</td>\n",
       "    </tr>\n",
       "    <tr>\n",
       "      <th>1432</th>\n",
       "      <td>7.113187</td>\n",
       "    </tr>\n",
       "    <tr>\n",
       "      <th>1589</th>\n",
       "      <td>7.044561</td>\n",
       "    </tr>\n",
       "    <tr>\n",
       "      <th>1873</th>\n",
       "      <td>7.042541</td>\n",
       "    </tr>\n",
       "    <tr>\n",
       "      <th>2350</th>\n",
       "      <td>7.004028</td>\n",
       "    </tr>\n",
       "    <tr>\n",
       "      <th>2840</th>\n",
       "      <td>7.096885</td>\n",
       "    </tr>\n",
       "    <tr>\n",
       "      <th>3289</th>\n",
       "      <td>7.083301</td>\n",
       "    </tr>\n",
       "    <tr>\n",
       "      <th>3627</th>\n",
       "      <td>7.096536</td>\n",
       "    </tr>\n",
       "    <tr>\n",
       "      <th>3666</th>\n",
       "      <td>7.167389</td>\n",
       "    </tr>\n",
       "    <tr>\n",
       "      <th>3684</th>\n",
       "      <td>7.084418</td>\n",
       "    </tr>\n",
       "    <tr>\n",
       "      <th>3731</th>\n",
       "      <td>7.088540</td>\n",
       "    </tr>\n",
       "    <tr>\n",
       "      <th>5525</th>\n",
       "      <td>7.125349</td>\n",
       "    </tr>\n",
       "    <tr>\n",
       "      <th>5894</th>\n",
       "      <td>7.111081</td>\n",
       "    </tr>\n",
       "    <tr>\n",
       "      <th>5967</th>\n",
       "      <td>7.014376</td>\n",
       "    </tr>\n",
       "    <tr>\n",
       "      <th>6197</th>\n",
       "      <td>7.067396</td>\n",
       "    </tr>\n",
       "    <tr>\n",
       "      <th>6299</th>\n",
       "      <td>7.185239</td>\n",
       "    </tr>\n",
       "    <tr>\n",
       "      <th>6857</th>\n",
       "      <td>7.009936</td>\n",
       "    </tr>\n",
       "    <tr>\n",
       "      <th>7281</th>\n",
       "      <td>7.008339</td>\n",
       "    </tr>\n",
       "    <tr>\n",
       "      <th>7343</th>\n",
       "      <td>7.165250</td>\n",
       "    </tr>\n",
       "    <tr>\n",
       "      <th>10509</th>\n",
       "      <td>7.063450</td>\n",
       "    </tr>\n",
       "    <tr>\n",
       "      <th>10669</th>\n",
       "      <td>7.301268</td>\n",
       "    </tr>\n",
       "    <tr>\n",
       "      <th>11169</th>\n",
       "      <td>7.137908</td>\n",
       "    </tr>\n",
       "    <tr>\n",
       "      <th>11363</th>\n",
       "      <td>7.476243</td>\n",
       "    </tr>\n",
       "    <tr>\n",
       "      <th>11697</th>\n",
       "      <td>7.299854</td>\n",
       "    </tr>\n",
       "    <tr>\n",
       "      <th>11987</th>\n",
       "      <td>7.143186</td>\n",
       "    </tr>\n",
       "    <tr>\n",
       "      <th>12165</th>\n",
       "      <td>7.111883</td>\n",
       "    </tr>\n",
       "    <tr>\n",
       "      <th>13536</th>\n",
       "      <td>7.380791</td>\n",
       "    </tr>\n",
       "    <tr>\n",
       "      <th>13724</th>\n",
       "      <td>7.189761</td>\n",
       "    </tr>\n",
       "    <tr>\n",
       "      <th>...</th>\n",
       "      <td>...</td>\n",
       "    </tr>\n",
       "    <tr>\n",
       "      <th>15635</th>\n",
       "      <td>7.177599</td>\n",
       "    </tr>\n",
       "    <tr>\n",
       "      <th>16029</th>\n",
       "      <td>7.047980</td>\n",
       "    </tr>\n",
       "    <tr>\n",
       "      <th>16043</th>\n",
       "      <td>7.342961</td>\n",
       "    </tr>\n",
       "    <tr>\n",
       "      <th>16219</th>\n",
       "      <td>7.192630</td>\n",
       "    </tr>\n",
       "    <tr>\n",
       "      <th>16899</th>\n",
       "      <td>7.129342</td>\n",
       "    </tr>\n",
       "    <tr>\n",
       "      <th>16937</th>\n",
       "      <td>7.116123</td>\n",
       "    </tr>\n",
       "    <tr>\n",
       "      <th>18051</th>\n",
       "      <td>7.277368</td>\n",
       "    </tr>\n",
       "    <tr>\n",
       "      <th>18080</th>\n",
       "      <td>7.123182</td>\n",
       "    </tr>\n",
       "    <tr>\n",
       "      <th>18094</th>\n",
       "      <td>7.358082</td>\n",
       "    </tr>\n",
       "    <tr>\n",
       "      <th>18524</th>\n",
       "      <td>7.508731</td>\n",
       "    </tr>\n",
       "    <tr>\n",
       "      <th>18573</th>\n",
       "      <td>7.382785</td>\n",
       "    </tr>\n",
       "    <tr>\n",
       "      <th>19178</th>\n",
       "      <td>7.115522</td>\n",
       "    </tr>\n",
       "    <tr>\n",
       "      <th>19286</th>\n",
       "      <td>7.166589</td>\n",
       "    </tr>\n",
       "    <tr>\n",
       "      <th>19297</th>\n",
       "      <td>7.155750</td>\n",
       "    </tr>\n",
       "    <tr>\n",
       "      <th>20011</th>\n",
       "      <td>7.013283</td>\n",
       "    </tr>\n",
       "    <tr>\n",
       "      <th>20135</th>\n",
       "      <td>7.206782</td>\n",
       "    </tr>\n",
       "    <tr>\n",
       "      <th>20389</th>\n",
       "      <td>7.015753</td>\n",
       "    </tr>\n",
       "    <tr>\n",
       "      <th>20518</th>\n",
       "      <td>7.104627</td>\n",
       "    </tr>\n",
       "    <tr>\n",
       "      <th>20951</th>\n",
       "      <td>7.125600</td>\n",
       "    </tr>\n",
       "    <tr>\n",
       "      <th>21313</th>\n",
       "      <td>7.287321</td>\n",
       "    </tr>\n",
       "    <tr>\n",
       "      <th>21328</th>\n",
       "      <td>7.028994</td>\n",
       "    </tr>\n",
       "    <tr>\n",
       "      <th>21776</th>\n",
       "      <td>7.079885</td>\n",
       "    </tr>\n",
       "    <tr>\n",
       "      <th>21857</th>\n",
       "      <td>7.157851</td>\n",
       "    </tr>\n",
       "    <tr>\n",
       "      <th>21858</th>\n",
       "      <td>7.040548</td>\n",
       "    </tr>\n",
       "    <tr>\n",
       "      <th>21907</th>\n",
       "      <td>7.156544</td>\n",
       "    </tr>\n",
       "    <tr>\n",
       "      <th>22133</th>\n",
       "      <td>7.303696</td>\n",
       "    </tr>\n",
       "    <tr>\n",
       "      <th>22563</th>\n",
       "      <td>7.072513</td>\n",
       "    </tr>\n",
       "    <tr>\n",
       "      <th>23030</th>\n",
       "      <td>7.307792</td>\n",
       "    </tr>\n",
       "    <tr>\n",
       "      <th>23146</th>\n",
       "      <td>7.083126</td>\n",
       "    </tr>\n",
       "    <tr>\n",
       "      <th>23198</th>\n",
       "      <td>7.225604</td>\n",
       "    </tr>\n",
       "  </tbody>\n",
       "</table>\n",
       "<p>64 rows × 1 columns</p>\n",
       "</div>"
      ],
      "text/plain": [
       "              0\n",
       "196    7.009859\n",
       "763    7.213717\n",
       "1108   7.104385\n",
       "1432   7.113187\n",
       "1589   7.044561\n",
       "1873   7.042541\n",
       "2350   7.004028\n",
       "2840   7.096885\n",
       "3289   7.083301\n",
       "3627   7.096536\n",
       "3666   7.167389\n",
       "3684   7.084418\n",
       "3731   7.088540\n",
       "5525   7.125349\n",
       "5894   7.111081\n",
       "5967   7.014376\n",
       "6197   7.067396\n",
       "6299   7.185239\n",
       "6857   7.009936\n",
       "7281   7.008339\n",
       "7343   7.165250\n",
       "10509  7.063450\n",
       "10669  7.301268\n",
       "11169  7.137908\n",
       "11363  7.476243\n",
       "11697  7.299854\n",
       "11987  7.143186\n",
       "12165  7.111883\n",
       "13536  7.380791\n",
       "13724  7.189761\n",
       "...         ...\n",
       "15635  7.177599\n",
       "16029  7.047980\n",
       "16043  7.342961\n",
       "16219  7.192630\n",
       "16899  7.129342\n",
       "16937  7.116123\n",
       "18051  7.277368\n",
       "18080  7.123182\n",
       "18094  7.358082\n",
       "18524  7.508731\n",
       "18573  7.382785\n",
       "19178  7.115522\n",
       "19286  7.166589\n",
       "19297  7.155750\n",
       "20011  7.013283\n",
       "20135  7.206782\n",
       "20389  7.015753\n",
       "20518  7.104627\n",
       "20951  7.125600\n",
       "21313  7.287321\n",
       "21328  7.028994\n",
       "21776  7.079885\n",
       "21857  7.157851\n",
       "21858  7.040548\n",
       "21907  7.156544\n",
       "22133  7.303696\n",
       "22563  7.072513\n",
       "23030  7.307792\n",
       "23146  7.083126\n",
       "23198  7.225604\n",
       "\n",
       "[64 rows x 1 columns]"
      ]
     },
     "execution_count": 86,
     "metadata": {},
     "output_type": "execute_result"
    }
   ],
   "source": [
    "#train_predictions_dataframe = pd.DataFrame(train_predictions)\n",
    "#train_predictions_dataframe[train_predictions_dataframe[0] > 7]"
   ]
  },
  {
   "cell_type": "code",
   "execution_count": 576,
   "metadata": {
    "collapsed": false
   },
   "outputs": [],
   "source": [
    "def format_predictions(predictions):\n",
    "    test_ids = test.Id\n",
    "    formatted_predictions = np.column_stack((test_ids, predictions))\n",
    "    formatted_predictions = pd.DataFrame(formatted_predictions)\n",
    "    formatted_predictions = formatted_predictions.rename(columns={0:\"Id\", 1:\"Response\"})\n",
    "    formatted_predictions.Response = formatted_predictions.Response.round(0)\n",
    "    formatted_predictions.Id = formatted_predictions.Id.astype(int)\n",
    "    formatted_predictions.Response = formatted_predictions.Response.astype(int)\n",
    "    formatted_predictions.Response[formatted_predictions.Response <= 0] = 1\n",
    "    return formatted_predictions\n",
    "\n",
    "def format_predictions_mytest(predictions):\n",
    "    mytest_ids = mytest.Id\n",
    "    formatted_predictions = np.column_stack((mytest_ids, predictions))\n",
    "    formatted_predictions = pd.DataFrame(formatted_predictions)\n",
    "    formatted_predictions = formatted_predictions.rename(columns={0:\"Id\", 1:\"Response\"})\n",
    "    formatted_predictions.Response = formatted_predictions.Response.round(0)\n",
    "    formatted_predictions.Id = formatted_predictions.Id.astype(int)\n",
    "    formatted_predictions.Response = formatted_predictions.Response.astype(int)\n",
    "    formatted_predictions.Response[formatted_predictions.Response <= 0] = 1\n",
    "    return formatted_predictions"
   ]
  },
  {
   "cell_type": "code",
   "execution_count": 579,
   "metadata": {
    "collapsed": false
   },
   "outputs": [],
   "source": [
    "def results_table(train_predictions):\n",
    "    train_predictions = format_predictions_mytest(train_predictions)\n",
    "    train_predictions = train_predictions.set_index(\"Id\")\n",
    "    train_predictions = train_predictions.rename(columns={\"Response\": \"Predictions\"})\n",
    "    training_answers = pd.DataFrame(mytest.set_index(\"Id\").iloc[:,-1])\n",
    "    training_answers = training_answers.rename(columns={\"Response\": \"Actual\"})\n",
    "    results = pd.concat([training_answers, train_predictions], axis=1)\n",
    "\n",
    "    alist = []\n",
    "    for x, y in np.asarray(results):\n",
    "        count = 0\n",
    "        if x == y:\n",
    "            count = 1\n",
    "        alist.append(count)\n",
    "        \n",
    "    accuracy_measure = pd.DataFrame(np.asarray(alist)).rename(columns={0:\"Correct\"})\n",
    "    accuracy_measure = pd.concat([accuracy_measure, pd.DataFrame(results.index)], axis=1).set_index(\"Id\")\n",
    "    results = pd.concat([results, accuracy_measure], axis=1)\n",
    "    accuracy_graphing = results.set_index(\"Actual\").iloc[:,1:]\n",
    "    accuracy_graphing_grouping = accuracy_graphing.groupby(by=accuracy_graphing.index)\n",
    "    accuracy_graphing = accuracy_graphing_grouping.agg(np.sum)\n",
    "    accuracy_graphing = pd.concat([accuracy_graphing, pd.DataFrame(results.Actual.value_counts(sort=False))], \n",
    "         axis=1)\n",
    "    accuracy_graphing[\"Pct Accurate\"] = accuracy_graphing.Correct / accuracy_graphing.Actual\n",
    "    accuracy_graphing[\"Pct of Total\"] = accuracy_graphing.Actual / 23753\n",
    "    accuracy_graphing = accuracy_graphing.round(2)\n",
    "    accuracy_graphing.index.names = ['Response']\n",
    "    return accuracy_graphing"
   ]
  },
  {
   "cell_type": "code",
   "execution_count": 608,
   "metadata": {
    "collapsed": false
   },
   "outputs": [],
   "source": [
    "results = results_table(predictions_notproba)"
   ]
  },
  {
   "cell_type": "code",
   "execution_count": 609,
   "metadata": {
    "collapsed": false
   },
   "outputs": [
    {
     "name": "stdout",
     "output_type": "stream",
     "text": [
      "Overall Accuracy = 20.12%\n"
     ]
    },
    {
     "data": {
      "text/html": [
       "<div>\n",
       "<table border=\"1\" class=\"dataframe\">\n",
       "  <thead>\n",
       "    <tr style=\"text-align: right;\">\n",
       "      <th></th>\n",
       "      <th>Correct</th>\n",
       "      <th>Actual</th>\n",
       "      <th>Pct Accurate</th>\n",
       "      <th>Pct of Total</th>\n",
       "    </tr>\n",
       "    <tr>\n",
       "      <th>Response</th>\n",
       "      <th></th>\n",
       "      <th></th>\n",
       "      <th></th>\n",
       "      <th></th>\n",
       "    </tr>\n",
       "  </thead>\n",
       "  <tbody>\n",
       "    <tr>\n",
       "      <th>1</th>\n",
       "      <td>183</td>\n",
       "      <td>2479</td>\n",
       "      <td>0.07</td>\n",
       "      <td>0.10</td>\n",
       "    </tr>\n",
       "    <tr>\n",
       "      <th>2</th>\n",
       "      <td>193</td>\n",
       "      <td>2617</td>\n",
       "      <td>0.07</td>\n",
       "      <td>0.11</td>\n",
       "    </tr>\n",
       "    <tr>\n",
       "      <th>3</th>\n",
       "      <td>46</td>\n",
       "      <td>404</td>\n",
       "      <td>0.11</td>\n",
       "      <td>0.02</td>\n",
       "    </tr>\n",
       "    <tr>\n",
       "      <th>4</th>\n",
       "      <td>30</td>\n",
       "      <td>554</td>\n",
       "      <td>0.05</td>\n",
       "      <td>0.02</td>\n",
       "    </tr>\n",
       "    <tr>\n",
       "      <th>5</th>\n",
       "      <td>753</td>\n",
       "      <td>2203</td>\n",
       "      <td>0.34</td>\n",
       "      <td>0.09</td>\n",
       "    </tr>\n",
       "    <tr>\n",
       "      <th>6</th>\n",
       "      <td>1654</td>\n",
       "      <td>4485</td>\n",
       "      <td>0.37</td>\n",
       "      <td>0.19</td>\n",
       "    </tr>\n",
       "    <tr>\n",
       "      <th>7</th>\n",
       "      <td>744</td>\n",
       "      <td>3167</td>\n",
       "      <td>0.23</td>\n",
       "      <td>0.13</td>\n",
       "    </tr>\n",
       "    <tr>\n",
       "      <th>8</th>\n",
       "      <td>1175</td>\n",
       "      <td>7844</td>\n",
       "      <td>0.15</td>\n",
       "      <td>0.33</td>\n",
       "    </tr>\n",
       "  </tbody>\n",
       "</table>\n",
       "</div>"
      ],
      "text/plain": [
       "          Correct  Actual  Pct Accurate  Pct of Total\n",
       "Response                                             \n",
       "1             183    2479          0.07          0.10\n",
       "2             193    2617          0.07          0.11\n",
       "3              46     404          0.11          0.02\n",
       "4              30     554          0.05          0.02\n",
       "5             753    2203          0.34          0.09\n",
       "6            1654    4485          0.37          0.19\n",
       "7             744    3167          0.23          0.13\n",
       "8            1175    7844          0.15          0.33"
      ]
     },
     "execution_count": 609,
     "metadata": {},
     "output_type": "execute_result"
    }
   ],
   "source": [
    "print(\"Overall Accuracy = {:.2%}\".format(sum(results.Correct) / sum(results.Actual)))\n",
    "results"
   ]
  },
  {
   "cell_type": "code",
   "execution_count": 594,
   "metadata": {
    "collapsed": false
   },
   "outputs": [],
   "source": [
    "from sklearn.linear_model import LinearRegression"
   ]
  },
  {
   "cell_type": "code",
   "execution_count": 607,
   "metadata": {
    "collapsed": false
   },
   "outputs": [],
   "source": [
    "lr = LinearRegression()\n",
    "lr.fit(X = np.asarray(mytrain.iloc[:,1:127]), y = np.asarray(mytrain.Response))\n",
    "\n",
    "#predictions = lr.predict_proba(np.asarray(mytest.iloc[:,1:127]))\n",
    "predictions_notproba = lr.predict(np.asarray(mytest.iloc[:,1:127]))"
   ]
  },
  {
   "cell_type": "code",
   "execution_count": 195,
   "metadata": {
    "collapsed": false
   },
   "outputs": [
    {
     "data": {
      "text/plain": [
       "<matplotlib.text.Text at 0x111c025f8>"
      ]
     },
     "execution_count": 195,
     "metadata": {},
     "output_type": "execute_result"
    },
    {
     "data": {
      "image/png": "[encoded data removed]",
      "text/plain": [
       "<matplotlib.figure.Figure at 0x10d968240>"
      ]
     },
     "metadata": {},
     "output_type": "display_data"
    }
   ],
   "source": [
    "ax = format_predictions.Response.value_counts().plot(kind=\"bar\", color=\"green\", title=\"Response Variable Frequencies in Predictions\", rot=360)\n",
    "ax.set_xlabel(\"Response Type\")\n",
    "ax.set_ylabel(\"Instances\")"
   ]
  },
  {
   "cell_type": "code",
   "execution_count": 161,
   "metadata": {
    "collapsed": false
   },
   "outputs": [
    {
     "data": {
      "text/plain": [
       "<matplotlib.text.Text at 0x10a26c4e0>"
      ]
     },
     "execution_count": 161,
     "metadata": {},
     "output_type": "execute_result"
    },
    {
     "data": {
      "image/png": "[encoded data removed]",
      "text/plain": [
       "<matplotlib.figure.Figure at 0x10a272080>"
      ]
     },
     "metadata": {},
     "output_type": "display_data"
    }
   ],
   "source": [
    "ax = train.Response.value_counts().plot(kind=\"bar\", color=\"green\", title=\"Response Variable Frequencies in Training Data\", rot=360)\n",
    "ax.set_xlabel(\"Response Type\")\n",
    "ax.set_ylabel(\"Instances\")"
   ]
  },
  {
   "cell_type": "markdown",
   "metadata": {},
   "source": [
    "There is a huge discrepancy here. Risk type 8 should be much more frequently predicted than it is. I highly believe it has to do with how I am rounding the predictions, since they are all in decimal form resulting from linear regression."
   ]
  },
  {
   "cell_type": "code",
   "execution_count": 227,
   "metadata": {
    "collapsed": true
   },
   "outputs": [],
   "source": [
    "predictions = bst.predict(xgb.DMatrix(np.asarray(test.iloc[:,1:])))\n",
    "test_ids = test.Id\n",
    "formatted_predictions = np.column_stack((test_ids, predictions))\n",
    "formatted_predictions = pd.DataFrame(formatted_predictions)\n",
    "formatted_predictions = formatted_predictions.rename(columns={0:\"Id\", 1:\"Response\"})\n",
    "formatted_predictions.Response = formatted_predictions.Response + .5\n",
    "formatted_predictions.Response = formatted_predictions.Response.round(0)\n",
    "formatted_predictions.Id = formatted_predictions.Id.astype(int)\n",
    "formatted_predictions.Response = formatted_predictions.Response.astype(int)\n",
    "formatted_predictions.Response[formatted_predictions.Response <= 0] = formatted_predictions[formatted_predictions.Response == 0] = 1\n",
    "formatted_predictions.Response[formatted_predictions.Response > 8 ] = formatted_predictions[formatted_predictions.Response == 0] = 8"
   ]
  },
  {
   "cell_type": "code",
   "execution_count": 228,
   "metadata": {
    "collapsed": true
   },
   "outputs": [],
   "source": [
    "formatted_predictions.to_csv(\"submissions/linear_regression_adding_5.csv\", index=False)"
   ]
  },
  {
   "cell_type": "code",
   "execution_count": 226,
   "metadata": {
    "collapsed": false
   },
   "outputs": [
    {
     "data": {
      "text/plain": [
       "<matplotlib.text.Text at 0x11c15bb38>"
      ]
     },
     "execution_count": 226,
     "metadata": {},
     "output_type": "execute_result"
    },
    {
     "data": {
      "image/png": "[encoded data removed]",
      "text/plain": [
       "<matplotlib.figure.Figure at 0x11c1a8c88>"
      ]
     },
     "metadata": {},
     "output_type": "display_data"
    }
   ],
   "source": [
    "ax = formatted_predictions.Response.value_counts().plot(kind=\"bar\", color=\"green\", title=\"Response Variable Frequencies in Predictions\", rot=360)\n",
    "ax.set_xlabel(\"Response Type\")\n",
    "ax.set_ylabel(\"Instances\")"
   ]
  },
  {
   "cell_type": "code",
   "execution_count": 209,
   "metadata": {
    "collapsed": false
   },
   "outputs": [
    {
     "data": {
      "text/plain": [
       "Id          4361\n",
       "Response    4361\n",
       "dtype: int64"
      ]
     },
     "execution_count": 209,
     "metadata": {},
     "output_type": "execute_result"
    }
   ],
   "source": [
    "formatted_predictions[(formatted_predictions['Response'] > 6.5) & (formatted_predictions['Response'] < 7.5)].count()"
   ]
  },
  {
   "cell_type": "code",
   "execution_count": 210,
   "metadata": {
    "collapsed": false
   },
   "outputs": [
    {
     "data": {
      "text/plain": [
       "Id          7074\n",
       "Response    7074\n",
       "dtype: int64"
      ]
     },
     "execution_count": 210,
     "metadata": {},
     "output_type": "execute_result"
    }
   ],
   "source": [
    "formatted_predictions[formatted_predictions['Response'] > 7.5].count()"
   ]
  },
  {
   "cell_type": "code",
   "execution_count": 211,
   "metadata": {
    "collapsed": false
   },
   "outputs": [
    {
     "data": {
      "text/plain": [
       "Id          77\n",
       "Response    77\n",
       "dtype: int64"
      ]
     },
     "execution_count": 211,
     "metadata": {},
     "output_type": "execute_result"
    }
   ],
   "source": [
    "formatted_predictions[formatted_predictions['Response'] < 1.5].count()"
   ]
  },
  {
   "cell_type": "code",
   "execution_count": 212,
   "metadata": {
    "collapsed": false
   },
   "outputs": [
    {
     "data": {
      "text/plain": [
       "Id          0\n",
       "Response    0\n",
       "dtype: int64"
      ]
     },
     "execution_count": 212,
     "metadata": {},
     "output_type": "execute_result"
    }
   ],
   "source": [
    "formatted_predictions[formatted_predictions['Response'] < 0].count()"
   ]
  },
  {
   "cell_type": "code",
   "execution_count": 213,
   "metadata": {
    "collapsed": false
   },
   "outputs": [
    {
     "data": {
      "text/plain": [
       "<matplotlib.text.Text at 0x10a73f828>"
      ]
     },
     "execution_count": 213,
     "metadata": {},
     "output_type": "execute_result"
    },
    {
     "data": {
      "image/png": "[encoded data removed]",
      "text/plain": [
       "<matplotlib.figure.Figure at 0x10676deb8>"
      ]
     },
     "metadata": {},
     "output_type": "display_data"
    }
   ],
   "source": []
  },
  {
   "cell_type": "code",
   "execution_count": 200,
   "metadata": {
    "collapsed": false
   },
   "outputs": [
    {
     "data": {
      "text/html": [
       "<div>\n",
       "<table border=\"1\" class=\"dataframe\">\n",
       "  <thead>\n",
       "    <tr style=\"text-align: right;\">\n",
       "      <th></th>\n",
       "      <th>Id</th>\n",
       "      <th>Response</th>\n",
       "    </tr>\n",
       "  </thead>\n",
       "  <tbody>\n",
       "    <tr>\n",
       "      <th>0</th>\n",
       "      <td>1</td>\n",
       "      <td>4.485847</td>\n",
       "    </tr>\n",
       "    <tr>\n",
       "      <th>1</th>\n",
       "      <td>3</td>\n",
       "      <td>7.158654</td>\n",
       "    </tr>\n",
       "    <tr>\n",
       "      <th>2</th>\n",
       "      <td>4</td>\n",
       "      <td>6.814400</td>\n",
       "    </tr>\n",
       "    <tr>\n",
       "      <th>3</th>\n",
       "      <td>9</td>\n",
       "      <td>6.677236</td>\n",
       "    </tr>\n",
       "    <tr>\n",
       "      <th>4</th>\n",
       "      <td>12</td>\n",
       "      <td>7.039287</td>\n",
       "    </tr>\n",
       "    <tr>\n",
       "      <th>5</th>\n",
       "      <td>13</td>\n",
       "      <td>7.821156</td>\n",
       "    </tr>\n",
       "    <tr>\n",
       "      <th>6</th>\n",
       "      <td>21</td>\n",
       "      <td>7.654713</td>\n",
       "    </tr>\n",
       "    <tr>\n",
       "      <th>7</th>\n",
       "      <td>28</td>\n",
       "      <td>8.240789</td>\n",
       "    </tr>\n",
       "    <tr>\n",
       "      <th>8</th>\n",
       "      <td>30</td>\n",
       "      <td>5.950975</td>\n",
       "    </tr>\n",
       "    <tr>\n",
       "      <th>9</th>\n",
       "      <td>36</td>\n",
       "      <td>7.920014</td>\n",
       "    </tr>\n",
       "    <tr>\n",
       "      <th>10</th>\n",
       "      <td>38</td>\n",
       "      <td>8.528160</td>\n",
       "    </tr>\n",
       "    <tr>\n",
       "      <th>11</th>\n",
       "      <td>43</td>\n",
       "      <td>7.681178</td>\n",
       "    </tr>\n",
       "    <tr>\n",
       "      <th>12</th>\n",
       "      <td>45</td>\n",
       "      <td>6.126161</td>\n",
       "    </tr>\n",
       "    <tr>\n",
       "      <th>13</th>\n",
       "      <td>48</td>\n",
       "      <td>8.151042</td>\n",
       "    </tr>\n",
       "    <tr>\n",
       "      <th>14</th>\n",
       "      <td>50</td>\n",
       "      <td>6.487192</td>\n",
       "    </tr>\n",
       "    <tr>\n",
       "      <th>15</th>\n",
       "      <td>51</td>\n",
       "      <td>7.250236</td>\n",
       "    </tr>\n",
       "    <tr>\n",
       "      <th>16</th>\n",
       "      <td>54</td>\n",
       "      <td>6.464433</td>\n",
       "    </tr>\n",
       "    <tr>\n",
       "      <th>17</th>\n",
       "      <td>55</td>\n",
       "      <td>7.961670</td>\n",
       "    </tr>\n",
       "    <tr>\n",
       "      <th>18</th>\n",
       "      <td>59</td>\n",
       "      <td>8.226943</td>\n",
       "    </tr>\n",
       "    <tr>\n",
       "      <th>19</th>\n",
       "      <td>62</td>\n",
       "      <td>4.331916</td>\n",
       "    </tr>\n",
       "    <tr>\n",
       "      <th>20</th>\n",
       "      <td>63</td>\n",
       "      <td>8.087913</td>\n",
       "    </tr>\n",
       "    <tr>\n",
       "      <th>21</th>\n",
       "      <td>66</td>\n",
       "      <td>7.974771</td>\n",
       "    </tr>\n",
       "    <tr>\n",
       "      <th>22</th>\n",
       "      <td>69</td>\n",
       "      <td>8.691885</td>\n",
       "    </tr>\n",
       "    <tr>\n",
       "      <th>23</th>\n",
       "      <td>82</td>\n",
       "      <td>8.186462</td>\n",
       "    </tr>\n",
       "    <tr>\n",
       "      <th>24</th>\n",
       "      <td>83</td>\n",
       "      <td>6.432937</td>\n",
       "    </tr>\n",
       "    <tr>\n",
       "      <th>25</th>\n",
       "      <td>84</td>\n",
       "      <td>6.913945</td>\n",
       "    </tr>\n",
       "    <tr>\n",
       "      <th>26</th>\n",
       "      <td>86</td>\n",
       "      <td>8.124747</td>\n",
       "    </tr>\n",
       "    <tr>\n",
       "      <th>27</th>\n",
       "      <td>89</td>\n",
       "      <td>8.186632</td>\n",
       "    </tr>\n",
       "    <tr>\n",
       "      <th>28</th>\n",
       "      <td>90</td>\n",
       "      <td>5.124881</td>\n",
       "    </tr>\n",
       "    <tr>\n",
       "      <th>29</th>\n",
       "      <td>92</td>\n",
       "      <td>7.473869</td>\n",
       "    </tr>\n",
       "    <tr>\n",
       "      <th>...</th>\n",
       "      <td>...</td>\n",
       "      <td>...</td>\n",
       "    </tr>\n",
       "    <tr>\n",
       "      <th>19735</th>\n",
       "      <td>79004</td>\n",
       "      <td>7.385101</td>\n",
       "    </tr>\n",
       "    <tr>\n",
       "      <th>19736</th>\n",
       "      <td>79007</td>\n",
       "      <td>7.445887</td>\n",
       "    </tr>\n",
       "    <tr>\n",
       "      <th>19737</th>\n",
       "      <td>79020</td>\n",
       "      <td>5.733675</td>\n",
       "    </tr>\n",
       "    <tr>\n",
       "      <th>19738</th>\n",
       "      <td>79022</td>\n",
       "      <td>4.692098</td>\n",
       "    </tr>\n",
       "    <tr>\n",
       "      <th>19739</th>\n",
       "      <td>79027</td>\n",
       "      <td>3.440414</td>\n",
       "    </tr>\n",
       "    <tr>\n",
       "      <th>19740</th>\n",
       "      <td>79028</td>\n",
       "      <td>8.492537</td>\n",
       "    </tr>\n",
       "    <tr>\n",
       "      <th>19741</th>\n",
       "      <td>79031</td>\n",
       "      <td>7.505788</td>\n",
       "    </tr>\n",
       "    <tr>\n",
       "      <th>19742</th>\n",
       "      <td>79035</td>\n",
       "      <td>3.249824</td>\n",
       "    </tr>\n",
       "    <tr>\n",
       "      <th>19743</th>\n",
       "      <td>79038</td>\n",
       "      <td>8.263568</td>\n",
       "    </tr>\n",
       "    <tr>\n",
       "      <th>19744</th>\n",
       "      <td>79047</td>\n",
       "      <td>6.418491</td>\n",
       "    </tr>\n",
       "    <tr>\n",
       "      <th>19745</th>\n",
       "      <td>79048</td>\n",
       "      <td>6.037053</td>\n",
       "    </tr>\n",
       "    <tr>\n",
       "      <th>19746</th>\n",
       "      <td>79051</td>\n",
       "      <td>6.720895</td>\n",
       "    </tr>\n",
       "    <tr>\n",
       "      <th>19747</th>\n",
       "      <td>79054</td>\n",
       "      <td>5.149828</td>\n",
       "    </tr>\n",
       "    <tr>\n",
       "      <th>19748</th>\n",
       "      <td>79060</td>\n",
       "      <td>5.958976</td>\n",
       "    </tr>\n",
       "    <tr>\n",
       "      <th>19749</th>\n",
       "      <td>79064</td>\n",
       "      <td>4.846946</td>\n",
       "    </tr>\n",
       "    <tr>\n",
       "      <th>19750</th>\n",
       "      <td>79065</td>\n",
       "      <td>4.791355</td>\n",
       "    </tr>\n",
       "    <tr>\n",
       "      <th>19751</th>\n",
       "      <td>79067</td>\n",
       "      <td>8.090876</td>\n",
       "    </tr>\n",
       "    <tr>\n",
       "      <th>19752</th>\n",
       "      <td>79071</td>\n",
       "      <td>3.569320</td>\n",
       "    </tr>\n",
       "    <tr>\n",
       "      <th>19753</th>\n",
       "      <td>79072</td>\n",
       "      <td>5.387996</td>\n",
       "    </tr>\n",
       "    <tr>\n",
       "      <th>19754</th>\n",
       "      <td>79073</td>\n",
       "      <td>8.078222</td>\n",
       "    </tr>\n",
       "    <tr>\n",
       "      <th>19755</th>\n",
       "      <td>79080</td>\n",
       "      <td>5.584129</td>\n",
       "    </tr>\n",
       "    <tr>\n",
       "      <th>19756</th>\n",
       "      <td>79083</td>\n",
       "      <td>2.709134</td>\n",
       "    </tr>\n",
       "    <tr>\n",
       "      <th>19757</th>\n",
       "      <td>79084</td>\n",
       "      <td>8.222623</td>\n",
       "    </tr>\n",
       "    <tr>\n",
       "      <th>19758</th>\n",
       "      <td>79085</td>\n",
       "      <td>6.442796</td>\n",
       "    </tr>\n",
       "    <tr>\n",
       "      <th>19759</th>\n",
       "      <td>79089</td>\n",
       "      <td>8.545486</td>\n",
       "    </tr>\n",
       "    <tr>\n",
       "      <th>19760</th>\n",
       "      <td>79093</td>\n",
       "      <td>8.106939</td>\n",
       "    </tr>\n",
       "    <tr>\n",
       "      <th>19761</th>\n",
       "      <td>79099</td>\n",
       "      <td>8.685218</td>\n",
       "    </tr>\n",
       "    <tr>\n",
       "      <th>19762</th>\n",
       "      <td>79102</td>\n",
       "      <td>4.690895</td>\n",
       "    </tr>\n",
       "    <tr>\n",
       "      <th>19763</th>\n",
       "      <td>79125</td>\n",
       "      <td>4.094452</td>\n",
       "    </tr>\n",
       "    <tr>\n",
       "      <th>19764</th>\n",
       "      <td>79129</td>\n",
       "      <td>6.444610</td>\n",
       "    </tr>\n",
       "  </tbody>\n",
       "</table>\n",
       "<p>19765 rows × 2 columns</p>\n",
       "</div>"
      ],
      "text/plain": [
       "          Id  Response\n",
       "0          1  4.485847\n",
       "1          3  7.158654\n",
       "2          4  6.814400\n",
       "3          9  6.677236\n",
       "4         12  7.039287\n",
       "5         13  7.821156\n",
       "6         21  7.654713\n",
       "7         28  8.240789\n",
       "8         30  5.950975\n",
       "9         36  7.920014\n",
       "10        38  8.528160\n",
       "11        43  7.681178\n",
       "12        45  6.126161\n",
       "13        48  8.151042\n",
       "14        50  6.487192\n",
       "15        51  7.250236\n",
       "16        54  6.464433\n",
       "17        55  7.961670\n",
       "18        59  8.226943\n",
       "19        62  4.331916\n",
       "20        63  8.087913\n",
       "21        66  7.974771\n",
       "22        69  8.691885\n",
       "23        82  8.186462\n",
       "24        83  6.432937\n",
       "25        84  6.913945\n",
       "26        86  8.124747\n",
       "27        89  8.186632\n",
       "28        90  5.124881\n",
       "29        92  7.473869\n",
       "...      ...       ...\n",
       "19735  79004  7.385101\n",
       "19736  79007  7.445887\n",
       "19737  79020  5.733675\n",
       "19738  79022  4.692098\n",
       "19739  79027  3.440414\n",
       "19740  79028  8.492537\n",
       "19741  79031  7.505788\n",
       "19742  79035  3.249824\n",
       "19743  79038  8.263568\n",
       "19744  79047  6.418491\n",
       "19745  79048  6.037053\n",
       "19746  79051  6.720895\n",
       "19747  79054  5.149828\n",
       "19748  79060  5.958976\n",
       "19749  79064  4.846946\n",
       "19750  79065  4.791355\n",
       "19751  79067  8.090876\n",
       "19752  79071  3.569320\n",
       "19753  79072  5.387996\n",
       "19754  79073  8.078222\n",
       "19755  79080  5.584129\n",
       "19756  79083  2.709134\n",
       "19757  79084  8.222623\n",
       "19758  79085  6.442796\n",
       "19759  79089  8.545486\n",
       "19760  79093  8.106939\n",
       "19761  79099  8.685218\n",
       "19762  79102  4.690895\n",
       "19763  79125  4.094452\n",
       "19764  79129  6.444610\n",
       "\n",
       "[19765 rows x 2 columns]"
      ]
     },
     "execution_count": 200,
     "metadata": {},
     "output_type": "execute_result"
    }
   ],
   "source": [
    "formatted_predictions"
   ]
  },
  {
   "cell_type": "markdown",
   "metadata": {},
   "source": [
    "The next step is to determine the best rounding cutoff points to optimize the predictions. Simply rounding at .5 is not cutting it."
   ]
  },
  {
   "cell_type": "markdown",
   "metadata": {},
   "source": [
    "With Python, you can use optimise.fmin from scipy package and use a 7 variables function that transforms your validation output to predict the best cuts for quadratic weighted kappa.\n"
   ]
  },
  {
   "cell_type": "code",
   "execution_count": null,
   "metadata": {
    "collapsed": true
   },
   "outputs": [],
   "source": []
  }
 ],
 "metadata": {
  "kernelspec": {
   "display_name": "Python 3",
   "language": "python",
   "name": "python3"
  },
  "language_info": {
   "codemirror_mode": {
    "name": "ipython",
    "version": 3
   },
   "file_extension": ".py",
   "mimetype": "text/x-python",
   "name": "python",
   "nbconvert_exporter": "python",
   "pygments_lexer": "ipython3",
   "version": "3.5.0"
  }
 },
 "nbformat": 4,
 "nbformat_minor": 0
}
